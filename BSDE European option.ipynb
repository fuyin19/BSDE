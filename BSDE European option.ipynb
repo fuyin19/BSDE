{
 "cells": [
  {
   "cell_type": "markdown",
   "metadata": {},
   "source": [
    "$\\newcommand{\\a}{\\alpha}$ $\\newcommand{\\s}{\\sigma}$ $\\newcommand{\\half}{\\frac{1}{2}}$ $\\newcommand{\\F}{\\mathcal{F}} \\newcommand{\\P}{\\mathbb{P}}$ $\\newcommand{\\par}{\\partial}$ $\\newcommand{\\R}{\\mathbb{R}}$\n",
    "$\\newcommand{\\argmin}{\\arg\\!\\min}$ $\\newcommand{\\E}{\\mathbb E}$$\\newcommand{\\lb}{\\left [}$$\\newcommand{\\rb}{\\right ]}$\n",
    "\n",
    "**Run this cell!**"
   ]
  },
  {
   "cell_type": "code",
   "execution_count": 1,
   "metadata": {},
   "outputs": [],
   "source": [
    "import numpy as np\n",
    "import matplotlib.pyplot as plt \n",
    "import sys\n",
    "sys.path.insert(0, '/Users/finn/Desktop/Capstone-BSDE/files/code')"
   ]
  },
  {
   "cell_type": "code",
   "execution_count": 2,
   "metadata": {},
   "outputs": [],
   "source": [
    "import european_option\n",
    "import Liquidation1\n",
    "import LSMC"
   ]
  },
  {
   "cell_type": "markdown",
   "metadata": {},
   "source": [
    "### 3.3A \n",
    "Example 1: European Option Pricing\n",
    "\n",
    "Consider some risky asset that satisfies the following forward SDE under real-world measure $\\mathbb P$\n",
    "$$\n",
    "    dS_t = \\mu_t S_t dt + \\s_t S_t dW_t^\\P\n",
    "$$\n",
    "where, for simplicity, we assume\n",
    "* $d = d_1=d_2 = 1$\n",
    "* $\\mu_t = 0.1$, the constant drift\n",
    "* $r_t=0.03$, the constant interest rate\n",
    "* $\\s_t=0.3$, the constant volatility\n",
    "* $S_0 =20$, the initial stock price\n",
    "* $T=1$, the time to maturity\n",
    "* $K=30$, the strike price\n",
    "\n",
    "Now, we will use the least square regression scheme in section $3.3$ for backward SDE $(1.3.1)$ with final condition\n",
    "\n",
    "\\begin{align*}\n",
    "    Y_T &= (S_T - K)^+\\\\\n",
    "    dY_t &= \\lb(\\mu_t - r_t)\\Pi_t + r_tY_t \\rb dt + \\sigma_t \\Pi_t dW_t  = \\lb\\frac{(\\mu_t - r_t)}{\\s_t}Z_t + r_tY_t \\rb dt + Z_t dW_t \\tag{1.3.1}\n",
    "\\end{align*}\n",
    "In this case,\n",
    "$$\n",
    "    f(s, y, z) :=  -\\lb \\frac{(\\mu_t - r_t)}{\\s_t}z + r_ty \\rb = -\\frac{7}{30}z - 0.03y\n",
    "$$\n",
    "\n",
    "we will choose the following parameters for Monte-Carlo\n",
    "* $M = 2^{19}$\n",
    "* $N = 100$\n",
    "* $\\Delta t= \\frac{T}{N}=0.01$\n",
    "* $k_n = 6, \\quad \\forall n=1,...,N-1$\n",
    "\n",
    "with the basis function\n",
    "$$\n",
    "    \\{ \\phi_i^{(n)}\\}:= \\{1, x, x^2, x^3, x^4, x^5\\},\\quad \\forall n=1,...,N-1\n",
    "$$"
   ]
  },
  {
   "cell_type": "code",
   "execution_count": 7,
   "metadata": {},
   "outputs": [
    {
     "name": "stdout",
     "output_type": "stream",
     "text": [
      "16.862227831261542\n",
      "16.969140024873884\n"
     ]
    }
   ],
   "source": [
    "# Market Parameters\n",
    "mu = 0.1\n",
    "r = 0.03\n",
    "sig = 0.8\n",
    "s0 = np.array([40])\n",
    "T = 1\n",
    "K = 30\n",
    "\n",
    "# Simulation parameters\n",
    "dt = 1/252.\n",
    "M = 2 ** 14\n",
    "N = int(T/dt)\n",
    "d = 1\n",
    "d1 = 1\n",
    "d2 = 1\n",
    "dZ = LSMC.generate_z_matrix(n_paths=M, n_steps=N, d_bm=d)\n",
    "\n",
    "# LSMC\n",
    "basis_funcs = [lambda x, coef=i: x ** coef for i in range(3)]\n",
    "\n",
    "S_sim = european_option.S_t(mu, sig, d, d1)\n",
    "Y_sim = european_option.Y_t(mu, r, sig, d2, K)\n",
    "\n",
    "LSMC_solver = LSMC.LSMC_linear(Y_sim, S_sim, dZ, s0, dt, reg_method=None, basis_funcs_type='poly')\n",
    "# LSMC_solver = LSMC.LSMC_svm(Y_sim, S_sim, dZ, s0, dt, basis_funcs_type='trig')\n",
    "\n",
    "LSMC_solver.solve()\n",
    "\n",
    "# Pricing with LSMC of FBSDE\n",
    "print(LSMC_solver.y0[0])\n",
    "print(european_option.BS_EuroCall(S=s0, T=T, K=K, r=r, q=0, sig=sig)[0])"
   ]
  },
  {
   "cell_type": "code",
   "execution_count": 8,
   "metadata": {},
   "outputs": [],
   "source": [
    "def show_result_path(method=\"linear\", M=[2**i for i in range(4, 20)]):\n",
    "    x = [np.log2(m) for m in M]\n",
    "    p_OLS = []\n",
    "    p_ridge = []\n",
    "    p_svm = []\n",
    "    \n",
    "    for m in M:\n",
    "        dZ = LSMC.generate_z_matrix(n_paths=m, n_steps=N, d_bm=d)\n",
    "        if method=='linear':\n",
    "            LSMC_solver_OLS = LSMC.LSMC_linear(Y_sim, S_sim, dZ, s0, dt, reg_method=None, basis_funcs_type='poly')\n",
    "            LSMC_solver_OLS.solve()\n",
    "            LSMC_solver_ridge = LSMC.LSMC_linear(Y_sim, S_sim, dZ, s0, dt, reg_method='ridge', basis_funcs_type='poly')\n",
    "            LSMC_solver_ridge.solve()\n",
    "            p_OLS.append(LSMC_solver_OLS.y0[0])\n",
    "            p_ridge.append(LSMC_solver_ridge.y0[0])\n",
    "            \n",
    "        elif method=='SVM':\n",
    "            LSMC_solver_svm = LSMC.LSMC_svm(Y_sim, S_sim, dZ, s0, dt, basis_funcs_type='trig', kernel='linear')\n",
    "            LSMC_solver_svm.solve()\n",
    "            p_svm.append(LSMC_solver_svm.y0[0])\n",
    "            \n",
    "    if method == 'linear':\n",
    "        return x, p_OLS, p_ridge\n",
    "    elif method == 'SVM':\n",
    "        return x, p_svm\n"
   ]
  },
  {
   "cell_type": "code",
   "execution_count": 9,
   "metadata": {},
   "outputs": [],
   "source": [
    "x, p_OLS, p_ridge = show_result_path()"
   ]
  },
  {
   "cell_type": "code",
   "execution_count": 10,
   "metadata": {},
   "outputs": [
    {
     "data": {
      "image/png": "[encoded data removed]",
      "text/plain": [
       "<Figure size 432x288 with 1 Axes>"
      ]
     },
     "metadata": {
      "needs_background": "light"
     },
     "output_type": "display_data"
    }
   ],
   "source": [
    "BS_price = european_option.BS_EuroCall(S=s0, T=T, K=K, r=r, q=0, sig=sig)[0]\n",
    "\n",
    "plt.plot(x, p_OLS, label='OLS')\n",
    "plt.plot(x, p_ridge, label='ridge')\n",
    "plt.plot(x, [BS_price]*len(x), label='BS')\n",
    "plt.legend()\n",
    "plt.show()"
   ]
  },
  {
   "cell_type": "code",
   "execution_count": 38,
   "metadata": {},
   "outputs": [],
   "source": [
    "x, p_svm = show_result_path(method=\"SVM\", M=[2**10, 2**11, 2**12])"
   ]
  },
  {
   "cell_type": "code",
   "execution_count": 39,
   "metadata": {},
   "outputs": [
    {
     "data": {
      "image/png": "[encoded data removed]",
      "text/plain": [
       "<Figure size 432x288 with 1 Axes>"
      ]
     },
     "metadata": {
      "needs_background": "light"
     },
     "output_type": "display_data"
    }
   ],
   "source": [
    "plt.plot(x, p_svm, label='SVM')\n",
    "plt.plot(x, [BS_price]*len(x), label='BS')\n",
    "plt.legend()\n",
    "plt.show()"
   ]
  }
 ],
 "metadata": {
  "kernelspec": {
   "display_name": "Python 3 (ipykernel)",
   "language": "python",
   "name": "python3"
  },
  "language_info": {
   "codemirror_mode": {
    "name": "ipython",
    "version": 3
   },
   "file_extension": ".py",
   "mimetype": "text/x-python",
   "name": "python",
   "nbconvert_exporter": "python",
   "pygments_lexer": "ipython3",
   "version": "3.8.5"
  }
 },
 "nbformat": 4,
 "nbformat_minor": 4
}
