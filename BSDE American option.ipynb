{
 "cells": [
  {
   "cell_type": "markdown",
   "metadata": {},
   "source": [
    "$$\n",
    "\\renewcommand{PDut}{\\frac{\\partial u}{\\partial t}}\n",
    "\\renewcommand{PDuS}{\\frac{\\partial u}{\\partial S}}\n",
    "\\renewcommand{PDuSS}{\\frac{\\partial ^2u}{\\partial S^2}}\n",
    "\\renewcommand{eps}{\\varepsilon}\n",
    "$$\n",
    "$\\newcommand{\\a}{\\alpha} \\newcommand{\\s}{\\sigma} \\newcommand{\\half}{\\frac{1}{2}} \\newcommand{\\F}{\\mathcal{F}} \\newcommand{\\P}{\\mathbb{P}} \\newcommand{\\par}{\\partial} \\newcommand{\\R}{\\mathbb{R}} \\newcommand{\\argmin}{\\arg\\!\\min} \\newcommand{\\E}{\\mathbb E} \\newcommand{\\lb}{\\left [} \\newcommand{\\rb}{\\right ]} \\newcommand{\\U}{\\mathcal{U}}$\n"
   ]
  },
  {
   "cell_type": "code",
   "execution_count": 21,
   "metadata": {},
   "outputs": [],
   "source": [
    "import numpy as np\n",
    "import matplotlib.pyplot as plt"
   ]
  },
  {
   "cell_type": "markdown",
   "metadata": {},
   "source": [
    "The usual PDE representation of American option price is given by the variational inequality\n",
    "\n",
    "$$  \n",
    "    \\max \\left(\\par_t u + \\mathcal{L}u, g(x) - u \\right) = 0, \\quad u(T, x) = g(x) \n",
    "$$\n",
    "\n",
    "which will be used as as the benchmark method for American option pricing. Now, we introduce the nonlinear PDE representation of America option\n",
    "\n",
    "$$\n",
    "    \\par_t u + \\mathcal{L}u + (\\mathcal{L}g)^-\\mathbb{1}_{\\{u(t,x)=g(x)\\}} = 0, \\quad u(T, x) = g(x)\n",
    "$$\n"
   ]
  },
  {
   "cell_type": "markdown",
   "metadata": {},
   "source": [
    "For put option payoff is given by\n",
    "\n",
    "$$\n",
    "    g(x) = (k-x)^+ = \n",
    "            \\begin{cases}\n",
    "               k-x &\\quad \\text{for } x \\leq k  \\\\\n",
    "               0 &\\quad\\text{otherwise.} \\\\ \n",
    "             \\end{cases}\n",
    "$$\n",
    "\n",
    "which is not differentiable at $x = k$. Hence, we will consider the approximation\n",
    "\n",
    "$$\n",
    "    g_\\eps(x) = \n",
    "        \\begin{cases}\n",
    "           k-x &\\quad \\text{for } x < k - \\eps  \\\\\n",
    "           \\frac{-(x - (k+\\eps))^2}{-4\\eps} &\\quad \\text{for } k-\\eps \\leq x \\leq k+\\eps \\\\\n",
    "           0 &\\quad\\text{for}  x \\geq k + \\eps \\\\ \n",
    "         \\end{cases}\n",
    "$$\n",
    "\n",
    "To visualize our payoff function,"
   ]
  },
  {
   "cell_type": "code",
   "execution_count": 22,
   "metadata": {},
   "outputs": [],
   "source": [
    "def g(x, K):\n",
    "    return np.maximum(K - x, 0)\n",
    "\n",
    "def g_eps(x, K, eps):\n",
    "    a = K - eps\n",
    "    b = K + eps\n",
    "    val1 = np.where(x < a, K-x, 0)\n",
    "    val2 = np.where((x <= b) & (a <= x), -((x-b)**2)/(-4*eps), 0)\n",
    "    val3 = np.where(x >= b, 0, 0)\n",
    "    \n",
    "    return val1 + val2 + val3"
   ]
  },
  {
   "cell_type": "code",
   "execution_count": 23,
   "metadata": {},
   "outputs": [
    {
     "data": {
      "image/png": "[encoded data removed]",
      "text/plain": [
       "<Figure size 1120x320 with 2 Axes>"
      ]
     },
     "metadata": {
      "needs_background": "light"
     },
     "output_type": "display_data"
    }
   ],
   "source": [
    "K = 50\n",
    "xs = np.linspace(0, 90, 1000)\n",
    "\n",
    "f, (ax1, ax2) = plt.subplots(1, 2, figsize=(14, 4), dpi=80)\n",
    "ax1.set_title('g')\n",
    "ax2.set_title('g_eps')\n",
    "\n",
    "ax1.plot(xs, g(xs, K=K))\n",
    "ax2.plot(xs, g_eps(xs, K=K, eps=0.1*K))\n",
    "\n",
    "ax1.set_xlabel(\"S\")\n",
    "ax2.set_xlabel(\"S\")\n",
    "ax1.set_ylabel(\"g\")\n",
    "ax2.set_ylabel(\"g_eps\")\n",
    "plt.show()"
   ]
  },
  {
   "cell_type": "code",
   "execution_count": null,
   "metadata": {},
   "outputs": [],
   "source": []
  },
  {
   "cell_type": "code",
   "execution_count": 31,
   "metadata": {},
   "outputs": [],
   "source": [
    "class BS_FDM_implicit:\n",
    "    def __init__(self,\n",
    "                 r,\n",
    "                 sigma,\n",
    "                 maturity,\n",
    "                 Smin,\n",
    "                 Smax,\n",
    "                 Fl,\n",
    "                 Fu,\n",
    "                 payoff,\n",
    "                 nt,\n",
    "                 ns):\n",
    "        self.r = r\n",
    "        self.sigma = sigma\n",
    "        self.maturity = maturity\n",
    "\n",
    "        self.Smin = Smin\n",
    "        self.Smax = Smax\n",
    "        self.Fl = Fl\n",
    "        self.Fu = Fu\n",
    "\n",
    "        self.nt = nt\n",
    "        self.ns = ns\n",
    "\n",
    "        self.dt = float(maturity) / nt\n",
    "        self.dx = float(Smax - Smin) / (ns + 1)\n",
    "        self.xs = Smin / self.dx\n",
    "\n",
    "        self.u = np.empty((nt + 1, ns))\n",
    "        self.u[0, :] = payoff\n",
    "\n",
    "        # Building Coefficient matrix:\n",
    "        A = sparse.lil_matrix((self.ns, self.ns))\n",
    "\n",
    "        for j in range(0, self.ns):\n",
    "            xd = j + 1 + self.xs\n",
    "            sx = self.sigma * xd\n",
    "            sxsq = sx * sx\n",
    "\n",
    "            dtmp1 = self.dt * sxsq\n",
    "            dtmp2 = self.dt * self.r\n",
    "            A[j, j] = 1.0 + dtmp1 + dtmp2\n",
    "\n",
    "            dtmp1 = -0.5 * dtmp1\n",
    "            dtmp2 = -0.5 * dtmp2 * xd\n",
    "            if j > 0:\n",
    "                A[j, j - 1] = dtmp1 - dtmp2\n",
    "            if j < self.ns - 1:\n",
    "                A[j, j + 1] = dtmp1 + dtmp2\n",
    "\n",
    "        self.A = linsolve.splu(A)\n",
    "        self.rhs = np.empty((self.ns,))\n",
    "\n",
    "        # Building bc_coef:\n",
    "        nxl = 1 + self.xs\n",
    "        sxl = self.sigma * nxl\n",
    "        nxu = self.ns + self.xs\n",
    "        sxu = self.sigma * nxu\n",
    "\n",
    "        self.blcoef = 0.5 * self.dt * (- sxl * sxl + self.r * nxl)\n",
    "        self.bucoef = 0.5 * self.dt * (- sxu * sxu - self.r * nxu)\n",
    "\n",
    "    def solve(self):\n",
    "        for i in range(0, self.nt):\n",
    "            self.rhs[:] = self.u[i, :]\n",
    "            self.rhs[0] -= self.blcoef * self.Fl[i]\n",
    "            self.rhs[self.ns - 1] -= self.bucoef * self.Fu[i]\n",
    "            self.u[i + 1, :] = self.A.solve(self.rhs)\n",
    "\n",
    "            # since it's an american option\n",
    "            # self.u[i + 1, :] = np.maximum(self.u[i + 1, :], self.u[0, :])\n",
    "            # print(self.u[i + 1, :])\n",
    "            # print(self.u[0, :])\n",
    "            # print(np.maximum(self.u[i + 1, :], self.u[0, :]))\n",
    "\n",
    "        return self.u"
   ]
  },
  {
   "cell_type": "code",
   "execution_count": null,
   "metadata": {},
   "outputs": [],
   "source": []
  },
  {
   "cell_type": "code",
   "execution_count": null,
   "metadata": {},
   "outputs": [],
   "source": []
  }
 ],
 "metadata": {
  "kernelspec": {
   "display_name": "Python 3 (ipykernel)",
   "language": "python",
   "name": "python3"
  },
  "language_info": {
   "codemirror_mode": {
    "name": "ipython",
    "version": 3
   },
   "file_extension": ".py",
   "mimetype": "text/x-python",
   "name": "python",
   "nbconvert_exporter": "python",
   "pygments_lexer": "ipython3",
   "version": "3.8.5"
  }
 },
 "nbformat": 4,
 "nbformat_minor": 4
}
