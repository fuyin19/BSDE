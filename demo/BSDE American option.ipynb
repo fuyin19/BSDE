{
 "cells": [
  {
   "cell_type": "markdown",
   "metadata": {},
   "source": [
    "$$\n",
    "\\renewcommand{PDut}{\\frac{\\partial u}{\\partial t}}\n",
    "\\renewcommand{PDuS}{\\frac{\\partial u}{\\partial S}}\n",
    "\\renewcommand{PDuSS}{\\frac{\\partial ^2u}{\\partial S^2}}\n",
    "\\renewcommand{eps}{\\varepsilon}\n",
    "$$\n",
    "$\\newcommand{\\a}{\\alpha} \\newcommand{\\s}{\\sigma} \\newcommand{\\half}{\\frac{1}{2}} \\newcommand{\\F}{\\mathcal{F}} \\newcommand{\\P}{\\mathbb{P}} \\newcommand{\\par}{\\partial} \\newcommand{\\R}{\\mathbb{R}} \\newcommand{\\argmin}{\\arg\\!\\min} \\newcommand{\\E}{\\mathbb E} \\newcommand{\\lb}{\\left [} \\newcommand{\\rb}{\\right ]} \\newcommand{\\U}{\\mathcal{U}}$\n"
   ]
  },
  {
   "cell_type": "code",
   "execution_count": 1,
   "metadata": {},
   "outputs": [],
   "source": [
    "import numpy as np\n",
    "import matplotlib.pyplot as plt\n",
    "import sys\n",
    "sys.path.insert(0, '/Users/finn/Desktop/Capstone-BSDE/files/code')\n",
    "import LSMC_engine\n",
    "import LSMC\n",
    "import american_option"
   ]
  },
  {
   "cell_type": "markdown",
   "metadata": {},
   "source": [
    "The usual PDE (variational inequality) representation of American option price is given by the variational inequality\n",
    "\n",
    "$$  \n",
    "    \\max \\left(\\par_t u + \\mathcal{L}u - ru, g(x) - u \\right) = 0, \\quad u(T, x) = g(x) \n",
    "$$\n",
    "\n",
    "which will be used as as the benchmark method for American option pricing. Now, we introduce several nonlinear PDE representation of America option in [Nonlinear Option Pricing](https://www.routledge.com/Nonlinear-Option-Pricing/Guyon-Henry-Labordere/p/book/9781466570337) and [this paper](https://www.ceremade.dauphine.fr/%7Ebouchard/pdf/LPBBSDE-final.pdf).\n",
    "\n",
    "\n",
    "$$\n",
    "    \\par_t u + \\mathcal{L}u + (-ru + (\\mathcal{L}g - rg)^-\\mathbb{1}_{\\{u(t,x) \\leq g(x)\\}}) = 0, \\quad u(T, x) = g(x)\n",
    "$$\n",
    "$$\n",
    "    \\par_t u + \\mathcal{L}u + (e^{-rt}(rg - \\mathcal{L}g) \\mathbb{1}_{\\{e^{rt}u(t,x) \\leq g(x)\\}}) = 0, \\quad u(T, x) = e^{-rT}g(x)\n",
    "$$"
   ]
  },
  {
   "cell_type": "markdown",
   "metadata": {},
   "source": [
    "For put option payoff is given by\n",
    "\n",
    "$$\n",
    "    g(x) = (k-x)^+ = \n",
    "            \\begin{cases}\n",
    "               k-x &\\quad \\text{for } x \\leq k  \\\\\n",
    "               0 &\\quad\\text{otherwise.} \\\\ \n",
    "             \\end{cases}\n",
    "$$\n",
    "\n",
    "which is not differentiable at $x = k$. Hence, we will consider the approximation\n",
    "\n",
    "$$\n",
    "    g_\\eps(x) = \n",
    "        \\begin{cases}\n",
    "           k-x &\\quad \\text{for } x < k - \\eps  \\\\\n",
    "           \\frac{-(x - (k+\\eps))^2}{-4\\eps} &\\quad \\text{for } k-\\eps \\leq x \\leq k+\\eps \\\\\n",
    "           0 &\\quad\\text{for}  x \\geq k + \\eps \\\\ \n",
    "         \\end{cases}\n",
    "$$\n",
    "\n",
    "To visualize our payoff function,"
   ]
  },
  {
   "cell_type": "code",
   "execution_count": 2,
   "metadata": {},
   "outputs": [],
   "source": [
    "def g(x, K):\n",
    "    return np.maximum(K - x, 0)\n",
    "\n",
    "def g_eps(x, K, eps):\n",
    "    a = K - eps\n",
    "    b = K + eps\n",
    "    val1 = np.where(x < a, K-x, 0)\n",
    "    val2 = np.where((x <= b) & (a <= x), -((x-b)**2)/(-4*eps), 0)\n",
    "    val3 = np.where(x >= b, 0, 0)\n",
    "    \n",
    "    return val1 + val2 + val3"
   ]
  },
  {
   "cell_type": "code",
   "execution_count": 3,
   "metadata": {},
   "outputs": [
    {
     "data": {
      "image/png": "[encoded data removed]",
      "text/plain": [
       "<Figure size 1120x320 with 2 Axes>"
      ]
     },
     "metadata": {
      "needs_background": "light"
     },
     "output_type": "display_data"
    }
   ],
   "source": [
    "K = 50\n",
    "xs = np.linspace(0, 90, 1000)\n",
    "\n",
    "f, (ax1, ax2) = plt.subplots(1, 2, figsize=(14, 4), dpi=80)\n",
    "ax1.set_title('g')\n",
    "ax2.set_title('g_eps')\n",
    "\n",
    "ax1.plot(xs, g(xs, K=K))\n",
    "ax2.plot(xs, g_eps(xs, K=K, eps=0.1*K))\n",
    "\n",
    "ax1.set_xlabel(\"S\")\n",
    "ax2.set_xlabel(\"S\")\n",
    "ax1.set_ylabel(\"g\")\n",
    "ax2.set_ylabel(\"g_eps\")\n",
    "plt.show()"
   ]
  },
  {
   "cell_type": "code",
   "execution_count": 4,
   "metadata": {},
   "outputs": [],
   "source": [
    "# Market Parameter\n",
    "r = [0.06]\n",
    "sig = [0.4, 0.5, 0.75]\n",
    "s0 = np.array([40])\n",
    "T = 1.\n",
    "K = [40.]\n",
    "\n",
    "# Simulation parameters\n",
    "Ms = [2**i for i in range(4, 18)]\n",
    "dt = (1 / 252.)/2\n",
    "N = int(T/dt)\n",
    "d = 1\n",
    "d1 = 1\n",
    "d2 = 1"
   ]
  },
  {
   "cell_type": "code",
   "execution_count": 5,
   "metadata": {},
   "outputs": [],
   "source": [
    "# LSMC\n",
    "LSMC_res = []\n",
    "\n",
    "for M in Ms:\n",
    "    LSMC_sim = LSMC_engine.LSMC_engine(task='pricing', d1=d1, d2=d2, d=d, T=T, M=M, dt=dt, x0=s0, \n",
    "                                       r=r, sig=sig, K=K, option_type='American')\n",
    "    LSMC_sim.run()\n",
    "    LSMC_res.append(LSMC_sim.prices)"
   ]
  },
  {
   "cell_type": "code",
   "execution_count": 6,
   "metadata": {},
   "outputs": [
    {
     "name": "stderr",
     "output_type": "stream",
     "text": [
      "/Users/finn/opt/anaconda3/lib/python3.8/site-packages/scipy/sparse/linalg/dsolve/linsolve.py:318: SparseEfficiencyWarning: splu requires CSC matrix format\n",
      "  warn('splu requires CSC matrix format', SparseEfficiencyWarning)\n"
     ]
    }
   ],
   "source": [
    "# PDE\n",
    "PDE_res = []\n",
    "S_min = 0.0\n",
    "S_max = 200\n",
    "\n",
    "nt = 5000\n",
    "ns = 399\n",
    "S_s = np.linspace(S_min, S_max, ns+2)\n",
    "t_s = np.linspace(0, T, nt+1)\n",
    "\n",
    "final_payoff = np.maximum(K - S_s, 0)\n",
    "B_upper = 0*t_s\n",
    "B_lower = np.exp(-r[0]*t_s) * K\n",
    "\n",
    "for s in sig:\n",
    "    BS_PDE_solver = american_option.BS_FDM_implicit(r[0], s, T, S_min, S_max, B_lower, B_upper,\n",
    "                                                        final_payoff[1:-1], nt, ns)\n",
    "    u_implicit = BS_PDE_solver.solve()\n",
    "    n_row = len(u_implicit[:, 1])\n",
    "\n",
    "    u = u_implicit[n_row-1, :]\n",
    "    s0_idx = int(2*s0[0]-1)\n",
    "    \n",
    "    PDE_res.append(u[s0_idx])"
   ]
  },
  {
   "cell_type": "code",
   "execution_count": 7,
   "metadata": {},
   "outputs": [
    {
     "data": {
      "image/png": "[encoded data removed]",
      "text/plain": [
       "<Figure size 1120x320 with 3 Axes>"
      ]
     },
     "metadata": {
      "needs_background": "light"
     },
     "output_type": "display_data"
    }
   ],
   "source": [
    "# show result\n",
    "LSMC_res = np.array(LSMC_res)\n",
    "PDE_res = np.array(PDE_res)\n",
    "\n",
    "f, axes = plt.subplots(1, len(sig), figsize=(14, 4), dpi=80)\n",
    "\n",
    "for (i, ax) in enumerate(axes):\n",
    "    ax.plot(Ms, LSMC_res[:, 0, i, 0], 'o-', color='b')\n",
    "    ax.plot(Ms, np.ones(len(Ms))*PDE_res[i], '-.', color='r')\n",
    "    \n",
    "    ax.set_title('Sig = {}'.format(sig[i]))\n",
    "    ax.legend(['LSMC', 'PDE'])\n",
    "    ax.set_xlabel('N path')"
   ]
  },
  {
   "cell_type": "code",
   "execution_count": null,
   "metadata": {},
   "outputs": [],
   "source": []
  },
  {
   "cell_type": "code",
   "execution_count": null,
   "metadata": {},
   "outputs": [],
   "source": []
  },
  {
   "cell_type": "code",
   "execution_count": null,
   "metadata": {},
   "outputs": [],
   "source": []
  }
 ],
 "metadata": {
  "kernelspec": {
   "display_name": "Python 3 (ipykernel)",
   "language": "python",
   "name": "python3"
  },
  "language_info": {
   "codemirror_mode": {
    "name": "ipython",
    "version": 3
   },
   "file_extension": ".py",
   "mimetype": "text/x-python",
   "name": "python",
   "nbconvert_exporter": "python",
   "pygments_lexer": "ipython3",
   "version": "3.8.5"
  }
 },
 "nbformat": 4,
 "nbformat_minor": 4
}
