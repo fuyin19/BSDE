{
 "cells": [
  {
   "cell_type": "markdown",
   "metadata": {},
   "source": [
    "Algo & HF trading - P140\n",
    "\n",
    "$\\newcommand{\\a}{\\alpha} \\newcommand{\\s}{\\sigma} \\newcommand{\\half}{\\frac{1}{2}} \\newcommand{\\F}{\\mathcal{F}} \\newcommand{\\P}{\\mathbb{P}} \\newcommand{\\par}{\\partial} \\newcommand{\\R}{\\mathbb{R}} \\newcommand{\\argmin}{\\arg\\!\\min} \\newcommand{\\E}{\\mathbb E} \\newcommand{\\lb}{\\left [} \\newcommand{\\rb}{\\right ]} \\newcommand{\\U}{\\mathcal{U}}$ $\\newcommand{\\lm}{\\begin{pmatrix}} \\newcommand{\\rm}{\\end{pmatrix}} \\newcommand{\\eps}{\\varepsilon}$"
   ]
  },
  {
   "cell_type": "markdown",
   "metadata": {},
   "source": [
    "The nonlinear PDE is given by\n",
    "$$\n",
    "    \\partial_tH + \\half \\s^2 \\partial_{ss}H + \\frac{1}{4k}(S-\\partial_q H)^2 = 0\n",
    "$$\n",
    "Consider the following BSDE representation\n",
    "\\begin{align}\n",
    "    dX_t &= \\lm dS_t \\\\ dQ_t \\rm = \\mu_t dt + \\s_t dW_t \\\\\n",
    "    dY_t &= -\\frac{1}{4k}\\lb a^T X_t - b^TAZ_t^T \\rb^2 dt + Z_tdW_t, \\quad g(Y_t) = -\\infty \\cdot \\mathbb{1}_{Q_t>0}\n",
    "\\end{align}\n",
    "where\n",
    "$$\n",
    "    \\mu_t = \\lm 0 \\\\ 0 \\rm, \\quad \n",
    "    \\s_t= \\lm \\s_s & 0 \\\\ 0 & \\varepsilon \\rm, \\quad \n",
    "    a = \\lm 1\\\\ 0 \\rm, \\quad \n",
    "    b = \\lm \\half\\\\ \\half \\rm, \\quad \n",
    "    A = \\lm 0 & \\frac{1}{\\eps}\\\\ 0 & \\frac{1}{\\eps} \\rm\n",
    "$$"
   ]
  },
  {
   "cell_type": "markdown",
   "metadata": {},
   "source": [
    "By generalized Feynman-Kac formula, we have\n",
    "\n",
    "\\begin{align}\n",
    "    Y_t &= u(t, X_t ) \\\\\n",
    "    Z_t &= D_x(t, X_t)\\s_t\n",
    "\\end{align}\n",
    "\n",
    "where $u(t, x)$ satisfies\n",
    "\\begin{align}\n",
    "    && \\par_t u(t, x) + \\mathcal{L}u(t, x) + f(t, x, u(t, x), D_x(t, x)\\s_t) = 0 \\\\\n",
    "    &\\iff& \\par_t u(t, x) + \\half\\s_s^2\\par_{ss}u(t, x) + \\half\\eps^2 \\par_{qq}u(t, x) + f(t, x, u(t, x), D_x(t, x)\\s_t) = 0 \\\\ \n",
    "    &\\iff& \\par_t u(t, x) + \\half\\s_s^2\\par_{ss}u(t, x) + \\half\\eps^2 \\par_{qq}u(t, x) + \\frac{1}{4k}\\lb a^Tx - b^TA (D_x(t,x)\\s_t)^T \\rb^2 = 0 \\\\\n",
    "    &\\iff& \\par_t u(t, x) + \\half\\s_s^2\\par_{ss}u(t, x) + \\half\\eps^2 \\par_{qq}u(t, x) + \\frac{1}{4k}\\lb s - \\lm 0 \\\\ \\frac{1}{\\eps}\\rm^T \\lm \\s_s & 0 \\\\ 0 & \\varepsilon \\rm \\lm \\par_su \\\\ \\par_qu \\rm \\rb^2 = 0\\\\\n",
    "    &\\iff& \\par_t u(t, x) + \\half\\s_s^2\\par_{ss}u(t, x) + \\half\\eps^2 \\par_{qq}u(t, x) + \\frac{1}{4k}\\lb s -  \\lm 0 \\\\ 1 \\rm^T \\lm \\par_su \\\\ \\par_qu \\rm \\rb^2 = 0\\\\\n",
    "    &\\iff& \\par_t u(t, x) + \\half\\s_s^2\\par_{ss}u(t, x) + \\half\\eps^2 \\par_{qq}u(t, x) + \\frac{1}{4k}\\lb s - \\par_q u(t, x) \\rb^2 = 0\\\\\n",
    "\\end{align}"
   ]
  },
  {
   "cell_type": "code",
   "execution_count": 9,
   "metadata": {},
   "outputs": [
    {
     "name": "stdout",
     "output_type": "stream",
     "text": [
      "[[0 1]\n",
      " [2 3]]\n",
      "[[0 1 2 3 4]]\n"
     ]
    }
   ],
   "source": [
    "import numpy as np\n",
    "dw = np.arange(4).reshape(2,2)\n",
    "x = np.arange(5).reshape(1,5)\n",
    "\n",
    "def d(data):\n",
    "    for d in data:\n",
    "        print(d)\n",
    "        \n",
    "d((dw, x))"
   ]
  },
  {
   "cell_type": "code",
   "execution_count": 20,
   "metadata": {},
   "outputs": [],
   "source": [
    "z = np.array([[1.],[2.]])"
   ]
  },
  {
   "cell_type": "code",
   "execution_count": 36,
   "metadata": {},
   "outputs": [],
   "source": [
    "import tensorflow.experimental.numpy as tnp\n",
    "import tensorflow as tf"
   ]
  },
  {
   "cell_type": "code",
   "execution_count": 26,
   "metadata": {},
   "outputs": [],
   "source": [
    "z = tnp.array(z)"
   ]
  },
  {
   "cell_type": "code",
   "execution_count": 34,
   "metadata": {},
   "outputs": [],
   "source": [
    "a = (tnp.ones([1, 2]) + tnp.ones([2, 1]))"
   ]
  },
  {
   "cell_type": "code",
   "execution_count": 45,
   "metadata": {},
   "outputs": [
    {
     "data": {
      "text/plain": [
       "<tf.Tensor: shape=(2,), dtype=float64, numpy=array([4., 4.])>"
      ]
     },
     "execution_count": 45,
     "metadata": {},
     "output_type": "execute_result"
    }
   ],
   "source": [
    "b = tf.reduce_sum(a, 1)\n",
    "b"
   ]
  },
  {
   "cell_type": "code",
   "execution_count": 52,
   "metadata": {},
   "outputs": [
    {
     "data": {
      "text/plain": [
       "<tf.Tensor: shape=(2, 1), dtype=float64, numpy=\n",
       "array([[5.],\n",
       "       [6.]])>"
      ]
     },
     "execution_count": 52,
     "metadata": {},
     "output_type": "execute_result"
    }
   ],
   "source": [
    "c = tf.constant([[5.], [6.]], dtype='float64')\n",
    "c"
   ]
  },
  {
   "cell_type": "code",
   "execution_count": 59,
   "metadata": {},
   "outputs": [
    {
     "data": {
      "text/plain": [
       "<tf.Tensor: shape=(2, 2), dtype=float64, numpy=\n",
       "array([[ 9.,  9.],\n",
       "       [10., 10.]])>"
      ]
     },
     "execution_count": 59,
     "metadata": {},
     "output_type": "execute_result"
    }
   ],
   "source": [
    "e = b + c\n",
    "e"
   ]
  }
 ],
 "metadata": {
  "kernelspec": {
   "display_name": "Python 3 (ipykernel)",
   "language": "python",
   "name": "python3"
  },
  "language_info": {
   "codemirror_mode": {
    "name": "ipython",
    "version": 3
   },
   "file_extension": ".py",
   "mimetype": "text/x-python",
   "name": "python",
   "nbconvert_exporter": "python",
   "pygments_lexer": "ipython3",
   "version": "3.8.5"
  }
 },
 "nbformat": 4,
 "nbformat_minor": 4
}
