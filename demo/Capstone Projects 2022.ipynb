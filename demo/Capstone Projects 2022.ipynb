{
 "cells": [
  {
   "cell_type": "markdown",
   "metadata": {},
   "source": [
    "# Capstone Projects"
   ]
  },
  {
   "cell_type": "markdown",
   "metadata": {},
   "source": [
    "## Simulation of BSDEs and Non-Linear PDEs"
   ]
  },
  {
   "cell_type": "markdown",
   "metadata": {},
   "source": [
    "A good reference on the topic is the monograph from [Jianfeng Zhang](https://link.springer.com/book/10.1007/978-1-4939-7256-2)."
   ]
  },
  {
   "cell_type": "markdown",
   "metadata": {},
   "source": [
    "### Introduction\n",
    "* BSDEs are an extension of SDEs and comes with various extensions (FBSDEs, reflected BSDEs, quadratic BSDEs).\n",
    "\n",
    "\n",
    "* BSDEs has a strong link with stochatsic optimization problems where nonlinear PDEs arises naturally.\n",
    "\n",
    "* Just like standard MC methods for SDEs can be used to solve linear parabolic PDEs, the MC simulations of BSDEs can be used to solve nonlinear PDEs, in particular HJB-PDEs.\n",
    "\n",
    "* The benchmark techniques for semi-linear parabolic equation involves least-square regression in the MC simulation framework.\n",
    "\n",
    "* Malliavin weights can be used to improve numerical algorithm.\n",
    "\n",
    "* Methods using branching processes can be used (see the book [Nonlinear Option Pricing](https://www.routledge.com/Nonlinear-Option-Pricing/Guyon-Henry-Labordere/p/book/9781466570337))\n",
    "\n",
    "* Fully nonlinear PDEs can also be expressed as solution of certain BSDEs (further extending the Feynman-Kac formula)\n",
    "\n",
    "* Path-dependent PDEs can also be tackled with ML techniques\n"
   ]
  },
  {
   "cell_type": "markdown",
   "metadata": {},
   "source": [
    "### Project\n",
    "\n",
    "The main idea is to study PDEs in low dimension for which an analytica solution exists and then to compare it to a numerical solutions from various algorithms. The book [Algo and High-Freq Trading](https://www.amazon.com/Algorithmic-High-Frequency-Trading-Mathematics-Finance/dp/1107091144) is a good start.\n",
    "\n",
    "Then application to a more challenging problem would be the following one: let's consider the following system\n",
    "\\begin{split}\n",
    "\\frac{dS_t}{S_t} &= \\mu dt + \\sigma dW_t \\\\\n",
    "dI_t &= S_t dt\\\\\n",
    "d\\Delta_t &= q_t dt\\\\\n",
    "dX_t &= q_t S_t dt\n",
    "\\end{split}\n",
    "\n",
    "and let's consider the following optimization problem\n",
    "$$\n",
    "J_{\\lambda, \\epsilon}(t,S, I, \\Delta, X) = \\sup_{(q_u)_{t \\leq u \\leq T}} E_t\\left( \\Delta_T I_T \\frac{1-\\delta}{T} - X_T  - \\lambda (X_T - N)^2 - N \\int_t^T \\epsilon q_t^2 S_t dt \\right)\n",
    "$$\n",
    "\n",
    "where \n",
    "* N is the notional amount\n",
    "* $\\delta$ is a small parameter called the discount\n",
    "* $\\lambda$ is a parameters forcing the amount of money spent to be close to $N$\n",
    "* $\\epsilon$ is a regularization parameters that can be interpreted as a market cost (e.g. market impact)\n",
    "\n",
    "Note that\n",
    "* $I_T/T$ can be replaced with $A_T$ and $dA_t = \\frac{S_t - A_t}{t} dt$ is the running average which is in practice a variable a great interest.\n",
    "* By homogeneity of the problem, the PDE is in fact of the form $J_{\\lambda, \\epsilon}(T-t,S, I, \\Delta, X)$ which means that many time to maturity can be solved at once.\n",
    "\n",
    "This problem does not have an analytical solution so in order to test the accuracy of the different methods one would need to simulate the above framework with MC simulations and compare the (simulated) distribution of\n",
    "$$ \\Delta_T I_T \\frac{1-\\delta}{T} - X_T  - \\lambda (X_T - N)^2 - N \\int_0^T \\epsilon q_t^2 S_t dt $$\n",
    "\n",
    "for $q_t$ coming from various stratgies, as well as intuitive ones such as $q_t = \\frac{N}{T S_t}$\n",
    "\n",
    "\n",
    "\n",
    "Many directions can be undertaken, making the project more or less mathematical with the study of convergence, stability, etc. of numerical methods or applied by comparing many different numerical methods and comparing their efficiencies in various settings (extension to stochastic volatilities).\n"
   ]
  },
  {
   "cell_type": "markdown",
   "metadata": {},
   "source": [
    "### Some References\n",
    "\n",
    "* [Jianfeng Zhang](https://link.springer.com/book/10.1007/978-1-4939-7256-2)\n",
    "* The book from Pierre Henry-Labordere and Julien Guyon on [Nonlinear Option Pricing](https://www.routledge.com/Nonlinear-Option-Pricing/Guyon-Henry-Labordere/p/book/9781466570337) gives a good presentation of BSDEs with extension and applications.\n",
    "* This [paper](https://arxiv.org/abs/2008.13333) provide a good overview of ML techniques for nonlinear PDEs. It also present numerical tehcniques based on branching processes that are of great interest.\n",
    "* The book [Algo and High-Freq Trading](https://www.amazon.com/Algorithmic-High-Frequency-Trading-Mathematics-Finance/dp/1107091144) presents many non-linear equations which, in low-dimension\n",
    "\n",
    "Some papers on ML techniques to solves nonlinear equations are:\n",
    "* [Pham1](https://arxiv.org/abs/2205.09815)\n",
    "* [Pham2](https://www.researchgate.net/publication/334866967_Neural_networks-based_backward_scheme_for_fully_nonlinear_PDEs)\n",
    "* [Pham3](https://www.researchgate.net/publication/337746171_Deep_backward_schemes_for_high-dimensional_nonlinear_PDEs)\n",
    "\n",
    "\n",
    "Note that the Deep Galerkin Method (DGM) described in Sirignano and Spiliopoulos (2018) is another approach to solve nonliear high-dimensional PDE which does not deal with MC simulation (and there no simulation of BSDEs.)\n",
    "\n",
    "Many papers from Nizar Touzi, Bruno Bouchard, Emmanuel-Gobet and their coauthors discuss this huge topic.\n"
   ]
  },
  {
   "cell_type": "markdown",
   "metadata": {},
   "source": [
    "## Exploration in Rough Volatility Models"
   ]
  },
  {
   "cell_type": "markdown",
   "metadata": {},
   "source": [
    "The seminal work of Jim Gatheral and Mathieu Rosembaum has revived the topic of modeling with fractional brownian motion."
   ]
  },
  {
   "cell_type": "markdown",
   "metadata": {},
   "source": [
    "* The recent [paper](https://papers.ssrn.com/sol3/papers.cfm?abstract_id=3876680) from Jim Gatheral on simulating affine models is an interesting study. \n",
    "\n",
    "* The shape of the VIX smile is challenging to capture and analyzing its shape is various rough volatility models is of great interest in practice. MC simulations are needed.\n",
    "\n",
    "\n",
    "* Volatility filtering methods have been proposed and can be compared to other prediction methods or even used to estimate model parameters.\n",
    "\n",
    "* Times series analysis and estimation of paramters (in particular the Hurst and volatility of volatility parameters) is an active topics. Rama Cont published a recent paper on spurious estimation of Hurst parameters.\n",
    "\n",
    "* The calibration of such models often requires ML techniques. Github already exists but clearly need to be extended and robustified in many ways:\n",
    "    - Arbitrage regularization (quite straighforward)\n",
    "    - Joint calibration of equity (SP5) and VIX smiles\n",
    "    - Joint calibration of European vanilla and forward starting vanilla smiles\n",
    "\n",
    "Projects can be on exploring one or many aspects aforementioned.\n"
   ]
  },
  {
   "cell_type": "markdown",
   "metadata": {},
   "source": [
    "The following website on [rough volatility](https://sites.google.com/site/roughvol/home) contains all the sources on the topic!"
   ]
  },
  {
   "cell_type": "code",
   "execution_count": 1,
   "metadata": {},
   "outputs": [],
   "source": [
    "def cr(a, b):\n",
    "    import numpy as np\n",
    "    return a*b-np.sqrt((1-a*a)*(1-b*b))"
   ]
  },
  {
   "cell_type": "code",
   "execution_count": 2,
   "metadata": {},
   "outputs": [
    {
     "data": {
      "text/plain": [
       "-0.3519999999999998"
      ]
     },
     "execution_count": 2,
     "metadata": {},
     "output_type": "execute_result"
    }
   ],
   "source": [
    "cr(0.8, 0.28)"
   ]
  },
  {
   "cell_type": "markdown",
   "metadata": {},
   "source": [
    "**Note that many githubs exist and already contain a lot of code that can be reused to further develop new analysis**"
   ]
  },
  {
   "cell_type": "markdown",
   "metadata": {},
   "source": [
    "## Rough Paths Theory and Application to Data Science"
   ]
  },
  {
   "cell_type": "markdown",
   "metadata": {},
   "source": [
    "A few ideas to explore. A start is from this series of [articles](https://www.quantstart.com/articles/rough-path-theory-and-signatures-applied-to-quantitative-finance-part-1/)\n",
    "\n",
    "Many seminars on the topic can be found on youtube.\n",
    "\n",
    "It seems that application of signature to volatility prediction could be a good project.\n",
    "\n",
    "On the more mathematical side there is for instance the paper [rough path for rough vol](https://arxiv.org/abs/2205.09958) which could be also have other application.\n"
   ]
  },
  {
   "cell_type": "code",
   "execution_count": null,
   "metadata": {},
   "outputs": [],
   "source": []
  }
 ],
 "metadata": {
  "kernelspec": {
   "display_name": "Python 3 (ipykernel)",
   "language": "python",
   "name": "python3"
  },
  "language_info": {
   "codemirror_mode": {
    "name": "ipython",
    "version": 3
   },
   "file_extension": ".py",
   "mimetype": "text/x-python",
   "name": "python",
   "nbconvert_exporter": "python",
   "pygments_lexer": "ipython3",
   "version": "3.8.5"
  }
 },
 "nbformat": 4,
 "nbformat_minor": 5
}
