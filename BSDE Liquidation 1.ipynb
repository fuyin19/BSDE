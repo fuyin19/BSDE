{
 "cells": [
  {
   "cell_type": "markdown",
   "metadata": {},
   "source": [
    "Algo & HF trading - P140\n",
    "\n",
    "$\\newcommand{\\a}{\\alpha} \\newcommand{\\s}{\\sigma} \\newcommand{\\half}{\\frac{1}{2}} \\newcommand{\\F}{\\mathcal{F}} \\newcommand{\\P}{\\mathbb{P}} \\newcommand{\\par}{\\partial} \\newcommand{\\R}{\\mathbb{R}} \\newcommand{\\argmin}{\\arg\\!\\min} \\newcommand{\\E}{\\mathbb E} \\newcommand{\\lb}{\\left [} \\newcommand{\\rb}{\\right ]} \\newcommand{\\U}{\\mathcal{U}}$"
   ]
  },
  {
   "cell_type": "markdown",
   "metadata": {},
   "source": [
    "The nonlinear PDE is given by\n",
    "$$\n",
    "    \\partial_tH + \\half \\s^2 \\partial_{SS}H + \\frac{1}{4k}(S-\\partial_q H)^2 = 0\n",
    "$$"
   ]
  },
  {
   "cell_type": "code",
   "execution_count": null,
   "metadata": {},
   "outputs": [],
   "source": []
  }
 ],
 "metadata": {
  "kernelspec": {
   "display_name": "Python 3 (ipykernel)",
   "language": "python",
   "name": "python3"
  },
  "language_info": {
   "codemirror_mode": {
    "name": "ipython",
    "version": 3
   },
   "file_extension": ".py",
   "mimetype": "text/x-python",
   "name": "python",
   "nbconvert_exporter": "python",
   "pygments_lexer": "ipython3",
   "version": "3.8.5"
  }
 },
 "nbformat": 4,
 "nbformat_minor": 4
}
